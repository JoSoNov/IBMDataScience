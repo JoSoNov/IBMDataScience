{
 "cells": [
  {
   "cell_type": "markdown",
   "id": "06e34ec9",
   "metadata": {},
   "source": [
    "# Data Science Tools and Ecosystem"
   ]
  },
  {
   "cell_type": "markdown",
   "id": "934be641",
   "metadata": {},
   "source": [
    "In this notebook, Data Science Tools and Ecosystem are summarized"
   ]
  },
  {
   "cell_type": "markdown",
   "id": "82cf51a9",
   "metadata": {},
   "source": [
    "**Objectives:**\n",
    "* Creating headers\n",
    "* List programming languages\n",
    "* List libraries\n",
    "* Build tables\n",
    "* Use arithmetic expressions"
   ]
  },
  {
   "cell_type": "markdown",
   "id": "dcca70df",
   "metadata": {},
   "source": [
    "Some of the popular languages that Data Scientists use are:"
   ]
  },
  {
   "cell_type": "markdown",
   "id": "c3fc63e6",
   "metadata": {},
   "source": [
    "1. Python\n",
    "2. R\n",
    "3. Julia"
   ]
  },
  {
   "cell_type": "markdown",
   "id": "ae0bf8f2",
   "metadata": {},
   "source": [
    "Some of the commonly used libraries used by Data Scientists include:"
   ]
  },
  {
   "cell_type": "markdown",
   "id": "65da901b",
   "metadata": {},
   "source": [
    "1. NumPy\n",
    "2. SciPy\n",
    "3. Tensorflow\n"
   ]
  },
  {
   "cell_type": "markdown",
   "id": "c035c5fa",
   "metadata": {},
   "source": [
    "Table:\n",
    "\n",
    "| Data Science Tools |\n",
    "|--------------------|\n",
    "| RStudio |\n",
    "| Jupiter Notebook |\n",
    "| Visual Studio |"
   ]
  },
  {
   "cell_type": "markdown",
   "id": "0ac5e2c5",
   "metadata": {},
   "source": [
    "### Below are a few examples of evaluating arithmetic expressions in Python."
   ]
  },
  {
   "cell_type": "markdown",
   "id": "aa717a07",
   "metadata": {},
   "source": [
    "This is a simple arithmetic expression to mutiply then add integers"
   ]
  },
  {
   "cell_type": "code",
   "execution_count": 6,
   "id": "731de062",
   "metadata": {},
   "outputs": [
    {
     "data": {
      "text/plain": [
       "29"
      ]
     },
     "execution_count": 6,
     "metadata": {},
     "output_type": "execute_result"
    }
   ],
   "source": [
    "(3*8)+5"
   ]
  },
  {
   "cell_type": "markdown",
   "id": "b3a4bcea",
   "metadata": {},
   "source": [
    "This will convert 200 minutes to hours by dividing by 60:"
   ]
  },
  {
   "cell_type": "code",
   "execution_count": 7,
   "id": "bb4b866e",
   "metadata": {},
   "outputs": [
    {
     "data": {
      "text/plain": [
       "3.3333333333333335"
      ]
     },
     "execution_count": 7,
     "metadata": {},
     "output_type": "execute_result"
    }
   ],
   "source": [
    "200/60"
   ]
  },
  {
   "cell_type": "markdown",
   "id": "ea23610e",
   "metadata": {},
   "source": [
    "## Author\n",
    "Jonas Sommer"
   ]
  }
 ],
 "metadata": {
  "kernelspec": {
   "display_name": "Python 3 (ipykernel)",
   "language": "python",
   "name": "python3"
  },
  "language_info": {
   "codemirror_mode": {
    "name": "ipython",
    "version": 3
   },
   "file_extension": ".py",
   "mimetype": "text/x-python",
   "name": "python",
   "nbconvert_exporter": "python",
   "pygments_lexer": "ipython3",
   "version": "3.11.4"
  }
 },
 "nbformat": 4,
 "nbformat_minor": 5
}
